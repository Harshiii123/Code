{
  "nbformat": 4,
  "nbformat_minor": 0,
  "metadata": {
    "colab": {
      "provenance": [],
      "authorship_tag": "ABX9TyO6e5iFTDkjjyJfnGH/RcPY",
      "include_colab_link": true
    },
    "kernelspec": {
      "name": "python3",
      "display_name": "Python 3"
    },
    "language_info": {
      "name": "python"
    }
  },
  "cells": [
    {
      "cell_type": "markdown",
      "metadata": {
        "id": "view-in-github",
        "colab_type": "text"
      },
      "source": [
        "<a href=\"https://colab.research.google.com/github/Harshiii123/Codes/blob/main/TO_DO_LIST.ipynb\" target=\"_parent\"><img src=\"https://colab.research.google.com/assets/colab-badge.svg\" alt=\"Open In Colab\"/></a>"
      ]
    },
    {
      "cell_type": "code",
      "source": [
        "def main():\n",
        "  tasks = []\n",
        "\n",
        "  while True:\n",
        "    print(\"\\n===== To-Do List =====\")\n",
        "    print(\"1. Add Task\")\n",
        "    print(\"2. Show Tasks\")\n",
        "    print(\"3. Mark Task as Done\")\n",
        "    print(\"4. Exit\")\n",
        "\n",
        "    choice = input(\"Enter your choice: \")\n",
        "\n",
        "    if choice == '1':\n",
        "      print()\n",
        "      n_tasks = int(input(\"How many task you want to add: \"))\n",
        "\n",
        "      for i in range(n_tasks):\n",
        "        task = input(\"Enter the task: \")\n",
        "        tasks.append({\"task\": task, \"done\": False})\n",
        "        print(\"Task added!\")\n",
        "\n",
        "    elif choice == '2':\n",
        "      print(\"\\nTasks:\")\n",
        "      for index, task in enumerate(tasks):\n",
        "        status =\"Done\" if task[\"done\"] else \"Not Done\"\n",
        "        print(f\"{index + 1}. {task['task']} - {status}\")\n",
        "\n",
        "    elif choice == '3':\n",
        "      task_index = int(input(\"Enter the task number to mark as done: \")) - 1\n",
        "      if 0 <= task_index < len(tasks):\n",
        "        tasks[task_index][\"done\"] = True\n",
        "        print(\"Task marked as done!\")\n",
        "      else:\n",
        "        print(\"Invalid task number.\")\n",
        "    elif choice == '4':\n",
        "      print(\"Exiting the To-DO List.\")\n",
        "      break\n",
        "\n",
        "    else:\n",
        "      print(\"Invalid choice. Please try again.\")\n",
        "\n",
        "if __name__ == \"__main__\":\n",
        "  main()"
      ],
      "metadata": {
        "colab": {
          "base_uri": "https://localhost:8080/"
        },
        "id": "e2TC-GXuDatF",
        "outputId": "2fac5e8d-2b18-4ecd-802d-40391f7cc820"
      },
      "execution_count": 6,
      "outputs": [
        {
          "output_type": "stream",
          "name": "stdout",
          "text": [
            "\n",
            "===== To-Do List =====\n",
            "1. Add Task\n",
            "2. Show Tasks\n",
            "3. Mark Task as Done\n",
            "4. Exit\n",
            "Enter your choice: 1\n",
            "\n",
            "How many task you want to add: 3\n",
            "Enter the task: Wake Up\n",
            "Task added!\n",
            "Enter the task: Brush\n",
            "Task added!\n",
            "Enter the task: Eat\n",
            "Task added!\n",
            "\n",
            "===== To-Do List =====\n",
            "1. Add Task\n",
            "2. Show Tasks\n",
            "3. Mark Task as Done\n",
            "4. Exit\n",
            "Enter your choice: 2\n",
            "\n",
            "Tasks:\n",
            "1. Wake Up - Not Done\n",
            "2. Brush - Not Done\n",
            "3. Eat - Not Done\n",
            "\n",
            "===== To-Do List =====\n",
            "1. Add Task\n",
            "2. Show Tasks\n",
            "3. Mark Task as Done\n",
            "4. Exit\n",
            "Enter your choice: 3\n",
            "Enter the task number to mark as done: 2\n",
            "Task marked as done!\n",
            "\n",
            "===== To-Do List =====\n",
            "1. Add Task\n",
            "2. Show Tasks\n",
            "3. Mark Task as Done\n",
            "4. Exit\n",
            "Enter your choice: 4\n",
            "Exiting the To-DO List.\n"
          ]
        }
      ]
    }
  ]
}
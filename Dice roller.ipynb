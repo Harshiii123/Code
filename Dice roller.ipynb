{
  "nbformat": 4,
  "nbformat_minor": 0,
  "metadata": {
    "colab": {
      "provenance": [],
      "authorship_tag": "ABX9TyPls64OCRqxgAxEq4Aj12MS",
      "include_colab_link": true
    },
    "kernelspec": {
      "name": "python3",
      "display_name": "Python 3"
    },
    "language_info": {
      "name": "python"
    }
  },
  "cells": [
    {
      "cell_type": "markdown",
      "metadata": {
        "id": "view-in-github",
        "colab_type": "text"
      },
      "source": [
        "<a href=\"https://colab.research.google.com/github/Harshiii123/Code/blob/main/Dice%20roller.ipynb\" target=\"_parent\"><img src=\"https://colab.research.google.com/assets/colab-badge.svg\" alt=\"Open In Colab\"/></a>"
      ]
    },
    {
      "cell_type": "code",
      "execution_count": 3,
      "metadata": {
        "colab": {
          "base_uri": "https://localhost:8080/"
        },
        "id": "MN74Vz2mwoD9",
        "outputId": "0846c319-6504-4807-9a42-2506b7460df6"
      },
      "outputs": [
        {
          "name": "stdout",
          "output_type": "stream",
          "text": [
            "Options:\n",
            "Enter 'roll' to roll a dice\n",
            "Enter 'exit' to end the program\n",
            ": roll\n",
            "Enter the number of sides on the dice: 6\n",
            "You rolled a 6-sided dice and got: 1\n",
            "Options:\n",
            "Enter 'roll' to roll a dice\n",
            "Enter 'exit' to end the program\n",
            ": roll\n",
            "Enter the number of sides on the dice: 2\n",
            "You rolled a 2-sided dice and got: 2\n",
            "Options:\n",
            "Enter 'roll' to roll a dice\n",
            "Enter 'exit' to end the program\n",
            ": rol\n",
            "Invalid input. Please enter a valid option.\n",
            "Options:\n",
            "Enter 'roll' to roll a dice\n",
            "Enter 'exit' to end the program\n",
            ": 2\n",
            "Invalid input. Please enter a valid option.\n",
            "Options:\n",
            "Enter 'roll' to roll a dice\n",
            "Enter 'exit' to end the program\n",
            ": roll\n",
            "Enter the number of sides on the dice: 5\n",
            "You rolled a 5-sided dice and got: 1\n",
            "Options:\n",
            "Enter 'roll' to roll a dice\n",
            "Enter 'exit' to end the program\n",
            ": roll\n",
            "Enter the number of sides on the dice: 1\n",
            "You rolled a 1-sided dice and got: 1\n",
            "Options:\n",
            "Enter 'roll' to roll a dice\n",
            "Enter 'exit' to end the program\n",
            ": roll\n",
            "Enter the number of sides on the dice: 4\n",
            "You rolled a 4-sided dice and got: 3\n",
            "Options:\n",
            "Enter 'roll' to roll a dice\n",
            "Enter 'exit' to end the program\n",
            ": exit\n"
          ]
        }
      ],
      "source": [
        "import random\n",
        "\n",
        "def roll_dice(sides):\n",
        "    return random.randint(1, sides)\n",
        "\n",
        "while True:\n",
        "    print(\"Options:\")\n",
        "    print(\"Enter 'roll' to roll a dice\")\n",
        "    print(\"Enter 'exit' to end the program\")\n",
        "\n",
        "    user_input = input(\": \")\n",
        "\n",
        "    if user_input == \"exit\":\n",
        "        break\n",
        "\n",
        "    if user_input == \"roll\":\n",
        "        sides = int(input(\"Enter the number of sides on the dice: \"))\n",
        "        result = roll_dice(sides)\n",
        "        print(f\"You rolled a {sides}-sided dice and got: {result}\")\n",
        "    else:\n",
        "        print(\"Invalid input. Please enter a valid option.\")"
      ]
    }
  ]
}
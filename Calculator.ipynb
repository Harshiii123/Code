{
  "nbformat": 4,
  "nbformat_minor": 0,
  "metadata": {
    "colab": {
      "provenance": [],
      "authorship_tag": "ABX9TyPaHuJr4OP/0xHqW2e5QpWL",
      "include_colab_link": true
    },
    "kernelspec": {
      "name": "python3",
      "display_name": "Python 3"
    },
    "language_info": {
      "name": "python"
    }
  },
  "cells": [
    {
      "cell_type": "markdown",
      "metadata": {
        "id": "view-in-github",
        "colab_type": "text"
      },
      "source": [
        "<a href=\"https://colab.research.google.com/github/Harshiii123/Codes/blob/main/Calculator.ipynb\" target=\"_parent\"><img src=\"https://colab.research.google.com/assets/colab-badge.svg\" alt=\"Open In Colab\"/></a>"
      ]
    },
    {
      "cell_type": "code",
      "execution_count": 2,
      "metadata": {
        "colab": {
          "base_uri": "https://localhost:8080/"
        },
        "id": "p7vq_6459l0l",
        "outputId": "e79b08c5-cb3b-49d4-8c00-d778e23b6810"
      },
      "outputs": [
        {
          "output_type": "stream",
          "name": "stdout",
          "text": [
            "1 - Add\n",
            "2 - Subtract\n",
            "3 - Multiply\n",
            "4 - Divide\n",
            "Choose an operation: 2\n",
            "Enter first number: 60\n",
            "Enter second number: 20\n",
            "The result of the operation is 40\n"
          ]
        }
      ],
      "source": [
        "print(\"1 - Add\")\n",
        "print(\"2 - Subtract\")\n",
        "print(\"3 - Multiply\")\n",
        "print(\"4 - Divide\")\n",
        "option = int(input(\"Choose an operation: \"))\n",
        "\n",
        "if(option in [1,2,3,4]):\n",
        "    num1 = int(input(\"Enter first number: \"))\n",
        "    num2 = int(input(\"Enter second number: \"))\n",
        "\n",
        "    if(option == 1):\n",
        "        result = num1 + num2\n",
        "    elif(option == 2):\n",
        "        result = num1 - num2\n",
        "    elif(option == 3):\n",
        "        result = num1 * num2\n",
        "    elif(option == 4):\n",
        "        result = num1 // num2\n",
        "\n",
        "\n",
        "else:\n",
        "    print(\"Invalid operation entered\")\n",
        "\n",
        "print(\"The result of the operation is {}\".format(result))"
      ]
    }
  ]
}